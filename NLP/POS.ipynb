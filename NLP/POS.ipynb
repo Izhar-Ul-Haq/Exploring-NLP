{
 "cells": [
  {
   "cell_type": "code",
   "execution_count": 61,
   "metadata": {},
   "outputs": [
    {
     "data": {
      "text/plain": [
       "'3.5.0'"
      ]
     },
     "execution_count": 61,
     "metadata": {},
     "output_type": "execute_result"
    }
   ],
   "source": [
    "import spacy\n",
    "spacy.__version__"
   ]
  },
  {
   "cell_type": "code",
   "execution_count": 62,
   "metadata": {},
   "outputs": [
    {
     "name": "stdout",
     "output_type": "stream",
     "text": [
      "{'__name__': 'spacy', '__doc__': None, '__package__': 'spacy', '__loader__': <_frozen_importlib_external.SourceFileLoader object at 0x0000022CC9F93610>, '__spec__': ModuleSpec(name='spacy', loader=<_frozen_importlib_external.SourceFileLoader object at 0x0000022CC9F93610>, origin='c:\\\\Users\\\\Internee\\\\AppData\\\\Local\\\\Programs\\\\Python\\\\Python311\\\\Lib\\\\site-packages\\\\spacy\\\\__init__.py', submodule_search_locations=['c:\\\\Users\\\\Internee\\\\AppData\\\\Local\\\\Programs\\\\Python\\\\Python311\\\\Lib\\\\site-packages\\\\spacy']), '__path__': ['c:\\\\Users\\\\Internee\\\\AppData\\\\Local\\\\Programs\\\\Python\\\\Python311\\\\Lib\\\\site-packages\\\\spacy'], '__file__': 'c:\\\\Users\\\\Internee\\\\AppData\\\\Local\\\\Programs\\\\Python\\\\Python311\\\\Lib\\\\site-packages\\\\spacy\\\\__init__.py', '__cached__': 'c:\\\\Users\\\\Internee\\\\AppData\\\\Local\\\\Programs\\\\Python\\\\Python311\\\\Lib\\\\site-packages\\\\spacy\\\\__pycache__\\\\__init__.cpython-311.pyc', '__builtins__': {'__name__': 'builtins', '__doc__': \"Built-in functions, exceptions, and other objects.\\n\\nNoteworthy: None is the `nil' object; Ellipsis represents `...' in slices.\", '__package__': '', '__loader__': <class '_frozen_importlib.BuiltinImporter'>, '__spec__': ModuleSpec(name='builtins', loader=<class '_frozen_importlib.BuiltinImporter'>, origin='built-in'), '__build_class__': <built-in function __build_class__>, '__import__': <built-in function __import__>, 'abs': <built-in function abs>, 'all': <built-in function all>, 'any': <built-in function any>, 'ascii': <built-in function ascii>, 'bin': <built-in function bin>, 'breakpoint': <built-in function breakpoint>, 'callable': <built-in function callable>, 'chr': <built-in function chr>, 'compile': <built-in function compile>, 'delattr': <built-in function delattr>, 'dir': <built-in function dir>, 'divmod': <built-in function divmod>, 'eval': <built-in function eval>, 'exec': <built-in function exec>, 'format': <built-in function format>, 'getattr': <built-in function getattr>, 'globals': <built-in function globals>, 'hasattr': <built-in function hasattr>, 'hash': <built-in function hash>, 'hex': <built-in function hex>, 'id': <built-in function id>, 'input': <bound method Kernel.raw_input of <ipykernel.ipkernel.IPythonKernel object at 0x0000022CC88218D0>>, 'isinstance': <built-in function isinstance>, 'issubclass': <built-in function issubclass>, 'iter': <built-in function iter>, 'aiter': <built-in function aiter>, 'len': <built-in function len>, 'locals': <built-in function locals>, 'max': <built-in function max>, 'min': <built-in function min>, 'next': <built-in function next>, 'anext': <built-in function anext>, 'oct': <built-in function oct>, 'ord': <built-in function ord>, 'pow': <built-in function pow>, 'print': <built-in function print>, 'repr': <built-in function repr>, 'round': <built-in function round>, 'setattr': <built-in function setattr>, 'sorted': <built-in function sorted>, 'sum': <built-in function sum>, 'vars': <built-in function vars>, 'None': None, 'Ellipsis': Ellipsis, 'NotImplemented': NotImplemented, 'False': False, 'True': True, 'bool': <class 'bool'>, 'memoryview': <class 'memoryview'>, 'bytearray': <class 'bytearray'>, 'bytes': <class 'bytes'>, 'classmethod': <class 'classmethod'>, 'complex': <class 'complex'>, 'dict': <class 'dict'>, 'enumerate': <class 'enumerate'>, 'filter': <class 'filter'>, 'float': <class 'float'>, 'frozenset': <class 'frozenset'>, 'property': <class 'property'>, 'int': <class 'int'>, 'list': <class 'list'>, 'map': <class 'map'>, 'object': <class 'object'>, 'range': <class 'range'>, 'reversed': <class 'reversed'>, 'set': <class 'set'>, 'slice': <class 'slice'>, 'staticmethod': <class 'staticmethod'>, 'str': <class 'str'>, 'super': <class 'super'>, 'tuple': <class 'tuple'>, 'type': <class 'type'>, 'zip': <class 'zip'>, '__debug__': True, 'BaseException': <class 'BaseException'>, 'BaseExceptionGroup': <class 'BaseExceptionGroup'>, 'Exception': <class 'Exception'>, 'GeneratorExit': <class 'GeneratorExit'>, 'KeyboardInterrupt': <class 'KeyboardInterrupt'>, 'SystemExit': <class 'SystemExit'>, 'ArithmeticError': <class 'ArithmeticError'>, 'AssertionError': <class 'AssertionError'>, 'AttributeError': <class 'AttributeError'>, 'BufferError': <class 'BufferError'>, 'EOFError': <class 'EOFError'>, 'ImportError': <class 'ImportError'>, 'LookupError': <class 'LookupError'>, 'MemoryError': <class 'MemoryError'>, 'NameError': <class 'NameError'>, 'OSError': <class 'OSError'>, 'ReferenceError': <class 'ReferenceError'>, 'RuntimeError': <class 'RuntimeError'>, 'StopAsyncIteration': <class 'StopAsyncIteration'>, 'StopIteration': <class 'StopIteration'>, 'SyntaxError': <class 'SyntaxError'>, 'SystemError': <class 'SystemError'>, 'TypeError': <class 'TypeError'>, 'ValueError': <class 'ValueError'>, 'Warning': <class 'Warning'>, 'FloatingPointError': <class 'FloatingPointError'>, 'OverflowError': <class 'OverflowError'>, 'ZeroDivisionError': <class 'ZeroDivisionError'>, 'BytesWarning': <class 'BytesWarning'>, 'DeprecationWarning': <class 'DeprecationWarning'>, 'EncodingWarning': <class 'EncodingWarning'>, 'FutureWarning': <class 'FutureWarning'>, 'ImportWarning': <class 'ImportWarning'>, 'PendingDeprecationWarning': <class 'PendingDeprecationWarning'>, 'ResourceWarning': <class 'ResourceWarning'>, 'RuntimeWarning': <class 'RuntimeWarning'>, 'SyntaxWarning': <class 'SyntaxWarning'>, 'UnicodeWarning': <class 'UnicodeWarning'>, 'UserWarning': <class 'UserWarning'>, 'BlockingIOError': <class 'BlockingIOError'>, 'ChildProcessError': <class 'ChildProcessError'>, 'ConnectionError': <class 'ConnectionError'>, 'FileExistsError': <class 'FileExistsError'>, 'FileNotFoundError': <class 'FileNotFoundError'>, 'InterruptedError': <class 'InterruptedError'>, 'IsADirectoryError': <class 'IsADirectoryError'>, 'NotADirectoryError': <class 'NotADirectoryError'>, 'PermissionError': <class 'PermissionError'>, 'ProcessLookupError': <class 'ProcessLookupError'>, 'TimeoutError': <class 'TimeoutError'>, 'IndentationError': <class 'IndentationError'>, 'IndexError': <class 'IndexError'>, 'KeyError': <class 'KeyError'>, 'ModuleNotFoundError': <class 'ModuleNotFoundError'>, 'NotImplementedError': <class 'NotImplementedError'>, 'RecursionError': <class 'RecursionError'>, 'UnboundLocalError': <class 'UnboundLocalError'>, 'UnicodeError': <class 'UnicodeError'>, 'BrokenPipeError': <class 'BrokenPipeError'>, 'ConnectionAbortedError': <class 'ConnectionAbortedError'>, 'ConnectionRefusedError': <class 'ConnectionRefusedError'>, 'ConnectionResetError': <class 'ConnectionResetError'>, 'TabError': <class 'TabError'>, 'UnicodeDecodeError': <class 'UnicodeDecodeError'>, 'UnicodeEncodeError': <class 'UnicodeEncodeError'>, 'UnicodeTranslateError': <class 'UnicodeTranslateError'>, 'ExceptionGroup': <class 'ExceptionGroup'>, 'EnvironmentError': <class 'OSError'>, 'IOError': <class 'OSError'>, 'WindowsError': <class 'OSError'>, 'open': <built-in function open>, 'copyright': Copyright (c) 2001-2022 Python Software Foundation.\n",
      "All Rights Reserved.\n",
      "\n",
      "Copyright (c) 2000 BeOpen.com.\n",
      "All Rights Reserved.\n",
      "\n",
      "Copyright (c) 1995-2001 Corporation for National Research Initiatives.\n",
      "All Rights Reserved.\n",
      "\n",
      "Copyright (c) 1991-1995 Stichting Mathematisch Centrum, Amsterdam.\n",
      "All Rights Reserved., 'credits':     Thanks to CWI, CNRI, BeOpen.com, Zope Corporation and a cast of thousands\n",
      "    for supporting Python development.  See www.python.org for more information., 'license': Type license() to see the full license text, 'help': Type help() for interactive help, or help(object) for help about object., 'execfile': <function execfile at 0x0000022CC8AC9620>, 'runfile': <function runfile at 0x0000022CC9C2E020>, '__IPYTHON__': True, 'display': <function display at 0x0000022CC71B9DA0>, 'get_ipython': <bound method InteractiveShell.get_ipython of <ipykernel.zmqshell.ZMQInteractiveShell object at 0x0000022CC9F5EED0>>}, 'Union': typing.Union, 'Iterable': typing.Iterable, 'Dict': typing.Dict, 'Any': typing.Any, 'Path': <class 'pathlib.Path'>, 'sys': <module 'sys' (built-in)>, 'compat': <module 'spacy.compat' from 'c:\\\\Users\\\\Internee\\\\AppData\\\\Local\\\\Programs\\\\Python\\\\Python311\\\\Lib\\\\site-packages\\\\spacy\\\\compat.py'>, 'errors': <module 'spacy.errors' from 'c:\\\\Users\\\\Internee\\\\AppData\\\\Local\\\\Programs\\\\Python\\\\Python311\\\\Lib\\\\site-packages\\\\spacy\\\\errors.py'>, 'setup_default_warnings': <function setup_default_warnings at 0x0000022CC9F7FC40>, 'prefer_gpu': <function prefer_gpu at 0x0000022CD8AD0040>, 'require_gpu': <function require_gpu at 0x0000022CD8AD00E0>, 'require_cpu': <function require_cpu at 0x0000022CD8ACBF60>, 'Config': <class 'confection.Config'>, 'symbols': <module 'spacy.symbols' from 'c:\\\\Users\\\\Internee\\\\AppData\\\\Local\\\\Programs\\\\Python\\\\Python311\\\\Lib\\\\site-packages\\\\spacy\\\\symbols.cp311-win_amd64.pyd'>, 'about': <module 'spacy.about' from 'c:\\\\Users\\\\Internee\\\\AppData\\\\Local\\\\Programs\\\\Python\\\\Python311\\\\Lib\\\\site-packages\\\\spacy\\\\about.py'>, 'util': <module 'spacy.util' from 'c:\\\\Users\\\\Internee\\\\AppData\\\\Local\\\\Programs\\\\Python\\\\Python311\\\\Lib\\\\site-packages\\\\spacy\\\\util.py'>, 'strings': <module 'spacy.strings' from 'c:\\\\Users\\\\Internee\\\\AppData\\\\Local\\\\Programs\\\\Python\\\\Python311\\\\Lib\\\\site-packages\\\\spacy\\\\strings.cp311-win_amd64.pyd'>, 'parts_of_speech': <module 'spacy.parts_of_speech' from 'c:\\\\Users\\\\Internee\\\\AppData\\\\Local\\\\Programs\\\\Python\\\\Python311\\\\Lib\\\\site-packages\\\\spacy\\\\parts_of_speech.cp311-win_amd64.pyd'>, 'morphology': <module 'spacy.morphology' from 'c:\\\\Users\\\\Internee\\\\AppData\\\\Local\\\\Programs\\\\Python\\\\Python311\\\\Lib\\\\site-packages\\\\spacy\\\\morphology.cp311-win_amd64.pyd'>, 'attrs': <module 'spacy.attrs' from 'c:\\\\Users\\\\Internee\\\\AppData\\\\Local\\\\Programs\\\\Python\\\\Python311\\\\Lib\\\\site-packages\\\\spacy\\\\attrs.cp311-win_amd64.pyd'>, 'lexeme': <module 'spacy.lexeme' from 'c:\\\\Users\\\\Internee\\\\AppData\\\\Local\\\\Programs\\\\Python\\\\Python311\\\\Lib\\\\site-packages\\\\spacy\\\\lexeme.cp311-win_amd64.pyd'>, 'lookups': <module 'spacy.lookups' from 'c:\\\\Users\\\\Internee\\\\AppData\\\\Local\\\\Programs\\\\Python\\\\Python311\\\\Lib\\\\site-packages\\\\spacy\\\\lookups.py'>, 'schemas': <module 'spacy.schemas' from 'c:\\\\Users\\\\Internee\\\\AppData\\\\Local\\\\Programs\\\\Python\\\\Python311\\\\Lib\\\\site-packages\\\\spacy\\\\schemas.py'>, 'tokens': <module 'spacy.tokens' from 'c:\\\\Users\\\\Internee\\\\AppData\\\\Local\\\\Programs\\\\Python\\\\Python311\\\\Lib\\\\site-packages\\\\spacy\\\\tokens\\\\__init__.py'>, 'vectors': <module 'spacy.vectors' from 'c:\\\\Users\\\\Internee\\\\AppData\\\\Local\\\\Programs\\\\Python\\\\Python311\\\\Lib\\\\site-packages\\\\spacy\\\\vectors.cp311-win_amd64.pyd'>, 'lang': <module 'spacy.lang' from 'c:\\\\Users\\\\Internee\\\\AppData\\\\Local\\\\Programs\\\\Python\\\\Python311\\\\Lib\\\\site-packages\\\\spacy\\\\lang\\\\__init__.py'>, 'vocab': <module 'spacy.vocab' from 'c:\\\\Users\\\\Internee\\\\AppData\\\\Local\\\\Programs\\\\Python\\\\Python311\\\\Lib\\\\site-packages\\\\spacy\\\\vocab.cp311-win_amd64.pyd'>, 'ty': <module 'spacy.ty' from 'c:\\\\Users\\\\Internee\\\\AppData\\\\Local\\\\Programs\\\\Python\\\\Python311\\\\Lib\\\\site-packages\\\\spacy\\\\ty.py'>, 'pipe_analysis': <module 'spacy.pipe_analysis' from 'c:\\\\Users\\\\Internee\\\\AppData\\\\Local\\\\Programs\\\\Python\\\\Python311\\\\Lib\\\\site-packages\\\\spacy\\\\pipe_analysis.py'>, 'scorer': <module 'spacy.scorer' from 'c:\\\\Users\\\\Internee\\\\AppData\\\\Local\\\\Programs\\\\Python\\\\Python311\\\\Lib\\\\site-packages\\\\spacy\\\\scorer.py'>, 'matcher': <module 'spacy.matcher' from 'c:\\\\Users\\\\Internee\\\\AppData\\\\Local\\\\Programs\\\\Python\\\\Python311\\\\Lib\\\\site-packages\\\\spacy\\\\matcher\\\\__init__.py'>, 'tokenizer': <module 'spacy.tokenizer' from 'c:\\\\Users\\\\Internee\\\\AppData\\\\Local\\\\Programs\\\\Python\\\\Python311\\\\Lib\\\\site-packages\\\\spacy\\\\tokenizer.cp311-win_amd64.pyd'>, 'git_info': <module 'spacy.git_info' from 'c:\\\\Users\\\\Internee\\\\AppData\\\\Local\\\\Programs\\\\Python\\\\Python311\\\\Lib\\\\site-packages\\\\spacy\\\\git_info.py'>, 'language': <module 'spacy.language' from 'c:\\\\Users\\\\Internee\\\\AppData\\\\Local\\\\Programs\\\\Python\\\\Python311\\\\Lib\\\\site-packages\\\\spacy\\\\language.py'>, 'training': <module 'spacy.training' from 'c:\\\\Users\\\\Internee\\\\AppData\\\\Local\\\\Programs\\\\Python\\\\Python311\\\\Lib\\\\site-packages\\\\spacy\\\\training\\\\__init__.py'>, 'kb': <module 'spacy.kb' from 'c:\\\\Users\\\\Internee\\\\AppData\\\\Local\\\\Programs\\\\Python\\\\Python311\\\\Lib\\\\site-packages\\\\spacy\\\\kb\\\\__init__.py'>, 'ml': <module 'spacy.ml' from 'c:\\\\Users\\\\Internee\\\\AppData\\\\Local\\\\Programs\\\\Python\\\\Python311\\\\Lib\\\\site-packages\\\\spacy\\\\ml\\\\__init__.py'>, 'pipeline': <module 'spacy.pipeline' from 'c:\\\\Users\\\\Internee\\\\AppData\\\\Local\\\\Programs\\\\Python\\\\Python311\\\\Lib\\\\site-packages\\\\spacy\\\\pipeline\\\\__init__.py'>, 'displacy': <module 'spacy.displacy' from 'c:\\\\Users\\\\Internee\\\\AppData\\\\Local\\\\Programs\\\\Python\\\\Python311\\\\Lib\\\\site-packages\\\\spacy\\\\displacy\\\\__init__.py'>, 'cli': <module 'spacy.cli' from 'c:\\\\Users\\\\Internee\\\\AppData\\\\Local\\\\Programs\\\\Python\\\\Python311\\\\Lib\\\\site-packages\\\\spacy\\\\cli\\\\__init__.py'>, 'info': <function info at 0x0000022CD9B31F80>, 'glossary': <module 'spacy.glossary' from 'c:\\\\Users\\\\Internee\\\\AppData\\\\Local\\\\Programs\\\\Python\\\\Python311\\\\Lib\\\\site-packages\\\\spacy\\\\glossary.py'>, 'explain': <function explain at 0x0000022CD94F2340>, '__version__': '3.5.0', 'registry': <class 'spacy.util.registry'>, 'logger': <Logger spacy (WARNING)>, 'Errors': <class 'spacy.errors.Errors'>, 'Language': <class 'spacy.language.Language'>, 'Vocab': <class 'spacy.vocab.Vocab'>, 'load': <function load at 0x0000022CD9B01F80>, 'blank': <function blank at 0x0000022CD9CEA660>}\n"
     ]
    }
   ],
   "source": [
    "print(spacy.__dict__)"
   ]
  },
  {
   "cell_type": "code",
   "execution_count": 1,
   "metadata": {},
   "outputs": [],
   "source": [
    "import spacy"
   ]
  },
  {
   "cell_type": "code",
   "execution_count": 4,
   "metadata": {},
   "outputs": [],
   "source": [
    "nlp = spacy.load(\"en_core_web_sm\")"
   ]
  },
  {
   "cell_type": "code",
   "execution_count": 5,
   "metadata": {},
   "outputs": [],
   "source": [
    "doc = nlp(\"Hi I am Izhar Ul Haq and I wanna be computer Scientist\"\n",
    ")"
   ]
  },
  {
   "cell_type": "code",
   "execution_count": 6,
   "metadata": {},
   "outputs": [
    {
     "name": "stdout",
     "output_type": "stream",
     "text": [
      "Hi  |  INTJ  |  91\n",
      "I  |  PRON  |  95\n",
      "am  |  AUX  |  87\n",
      "Izhar  |  PROPN  |  96\n",
      "Ul  |  PROPN  |  96\n",
      "Haq  |  PROPN  |  96\n",
      "and  |  CCONJ  |  89\n",
      "I  |  PRON  |  95\n",
      "wanna  |  VERB  |  100\n",
      "be  |  AUX  |  87\n",
      "computer  |  NOUN  |  92\n",
      "Scientist  |  PROPN  |  96\n"
     ]
    }
   ],
   "source": [
    "for token in doc:\n",
    "    print(token, \" | \", token.pos_, \" | \", token.pos)"
   ]
  },
  {
   "cell_type": "code",
   "execution_count": 9,
   "metadata": {},
   "outputs": [
    {
     "name": "stdout",
     "output_type": "stream",
     "text": [
      "Hi  |  INTJ  |  91  |  interjection\n",
      "I  |  PRON  |  95  |  pronoun\n",
      "am  |  AUX  |  87  |  auxiliary\n",
      "Izhar  |  PROPN  |  96  |  proper noun\n",
      "Ul  |  PROPN  |  96  |  proper noun\n",
      "Haq  |  PROPN  |  96  |  proper noun\n",
      "and  |  CCONJ  |  89  |  coordinating conjunction\n",
      "I  |  PRON  |  95  |  pronoun\n",
      "wanna  |  VERB  |  100  |  verb\n",
      "be  |  AUX  |  87  |  auxiliary\n",
      "computer  |  NOUN  |  92  |  noun\n",
      "Scientist  |  PROPN  |  96  |  proper noun\n"
     ]
    }
   ],
   "source": [
    "for token in doc:\n",
    "    print(token, \" | \", token.pos_, \" | \", token.pos, \" | \", spacy.explain(token.pos_))"
   ]
  },
  {
   "cell_type": "code",
   "execution_count": 10,
   "metadata": {},
   "outputs": [
    {
     "data": {
      "text/plain": [
       "['tok2vec', 'tagger', 'parser', 'attribute_ruler', 'lemmatizer', 'ner']"
      ]
     },
     "execution_count": 10,
     "metadata": {},
     "output_type": "execute_result"
    }
   ],
   "source": [
    "nlp.pipe_names"
   ]
  },
  {
   "cell_type": "code",
   "execution_count": 11,
   "metadata": {},
   "outputs": [
    {
     "name": "stdout",
     "output_type": "stream",
     "text": [
      "Hi  |  INTJ  |  91  |  interjection UH  |  interjection\n",
      "I  |  PRON  |  95  |  pronoun PRP  |  pronoun, personal\n",
      "am  |  AUX  |  87  |  auxiliary VBP  |  verb, non-3rd person singular present\n",
      "Izhar  |  PROPN  |  96  |  proper noun NNP  |  noun, proper singular\n",
      "Ul  |  PROPN  |  96  |  proper noun NNP  |  noun, proper singular\n",
      "Haq  |  PROPN  |  96  |  proper noun NNP  |  noun, proper singular\n",
      "and  |  CCONJ  |  89  |  coordinating conjunction CC  |  conjunction, coordinating\n",
      "I  |  PRON  |  95  |  pronoun PRP  |  pronoun, personal\n",
      "wanna  |  VERB  |  100  |  verb VBP  |  verb, non-3rd person singular present\n",
      "be  |  AUX  |  87  |  auxiliary VB  |  verb, base form\n",
      "computer  |  NOUN  |  92  |  noun NN  |  noun, singular or mass\n",
      "Scientist  |  PROPN  |  96  |  proper noun NNP  |  noun, proper singular\n"
     ]
    }
   ],
   "source": [
    "for token in doc:\n",
    "    print(token, \" | \",\n",
    "    token.pos_, \" | \", \n",
    "    token.pos, \" | \", spacy.explain(token.pos_), \n",
    "    token.tag_, \" | \", spacy.explain(token.tag_)\n",
    "    )"
   ]
  },
  {
   "cell_type": "code",
   "execution_count": 12,
   "metadata": {},
   "outputs": [
    {
     "name": "stdout",
     "output_type": "stream",
     "text": [
      "quits  |  VBZ  |  noun, proper singular\n"
     ]
    }
   ],
   "source": [
    "doc = nlp(\"he quits his job\")\n",
    "doc = doc[1]\n",
    "print(doc.text, \" | \", doc.tag_, \" | \", spacy.explain(token.tag_))"
   ]
  },
  {
   "cell_type": "code",
   "execution_count": 18,
   "metadata": {},
   "outputs": [],
   "source": [
    "doc = nlp(\"Business  etc.  magnate Elon Musk initiated an acquisition of American social media company Twitter, Inc. on April 14, 2022, and concluded it on October 27, 2022. Musk had begun buying shares of the company in January 2022, becoming its largest shareholder by April with a 9.1 percent ownership stake.\")"
   ]
  },
  {
   "cell_type": "code",
   "execution_count": 20,
   "metadata": {},
   "outputs": [
    {
     "name": "stdout",
     "output_type": "stream",
     "text": [
      "101  |  other\n",
      "101  |  other\n",
      "97  |  punctuation\n",
      "97  |  punctuation\n",
      "97  |  punctuation\n",
      "97  |  punctuation\n",
      "97  |  punctuation\n",
      "97  |  punctuation\n",
      "97  |  punctuation\n"
     ]
    }
   ],
   "source": [
    "for token in doc:\n",
    "    if token.pos_ in [\"Space\", \"X\", \"PUNCT\"]:\n",
    "        print(token.pos, \" | \", spacy.explain(token.pos_))"
   ]
  },
  {
   "cell_type": "code",
   "execution_count": 21,
   "metadata": {},
   "outputs": [
    {
     "name": "stdout",
     "output_type": "stream",
     "text": [
      "[etc, ., ,, ,, ,, ,, ., ,, .]\n"
     ]
    }
   ],
   "source": [
    "filterToken = []\n",
    "for token in doc:\n",
    "    if token.pos_ in [\"Space\", \"X\", \"PUNCT\"]:\n",
    "        filterToken.append(token)\n",
    "print(filterToken)       \n",
    "        "
   ]
  },
  {
   "cell_type": "code",
   "execution_count": null,
   "metadata": {},
   "outputs": [],
   "source": []
  },
  {
   "cell_type": "code",
   "execution_count": 59,
   "metadata": {},
   "outputs": [
    {
     "ename": "OSError",
     "evalue": "[E941] Can't find model 'en'. It looks like you're trying to load a model from a shortcut, which is obsolete as of spaCy v3.0. To load the model, use its full name instead:\n\nnlp = spacy.load(\"en_core_web_sm\")\n\nFor more details on the available models, see the models directory: https://spacy.io/models. If you want to create a blank model, use spacy.blank: nlp = spacy.blank(\"en\")",
     "output_type": "error",
     "traceback": [
      "\u001b[1;31m---------------------------------------------------------------------------\u001b[0m",
      "\u001b[1;31mOSError\u001b[0m                                   Traceback (most recent call last)",
      "Cell \u001b[1;32mIn[59], line 5\u001b[0m\n\u001b[0;32m      2\u001b[0m \u001b[39mimport\u001b[39;00m \u001b[39mnumpy\u001b[39;00m \u001b[39mas\u001b[39;00m \u001b[39mnp\u001b[39;00m\n\u001b[0;32m      4\u001b[0m \u001b[39m# Load the English model\u001b[39;00m\n\u001b[1;32m----> 5\u001b[0m nlp \u001b[39m=\u001b[39m spacy\u001b[39m.\u001b[39;49mload(\u001b[39m'\u001b[39;49m\u001b[39men\u001b[39;49m\u001b[39m'\u001b[39;49m)\n\u001b[0;32m      7\u001b[0m \u001b[39m# Sample sentences\u001b[39;00m\n\u001b[0;32m      8\u001b[0m sentences \u001b[39m=\u001b[39m [\u001b[39m\"\u001b[39m\u001b[39mThis is sentence 1.\u001b[39m\u001b[39m\"\u001b[39m, \u001b[39m\"\u001b[39m\u001b[39mThis is sentence 2.\u001b[39m\u001b[39m\"\u001b[39m, \u001b[39m\"\u001b[39m\u001b[39mThis is sentence 3.\u001b[39m\u001b[39m\"\u001b[39m]\n",
      "File \u001b[1;32mc:\\Users\\Internee\\AppData\\Local\\Programs\\Python\\Python311\\Lib\\site-packages\\spacy\\__init__.py:54\u001b[0m, in \u001b[0;36mload\u001b[1;34m(name, vocab, disable, enable, exclude, config)\u001b[0m\n\u001b[0;32m     30\u001b[0m \u001b[39mdef\u001b[39;00m \u001b[39mload\u001b[39m(\n\u001b[0;32m     31\u001b[0m     name: Union[\u001b[39mstr\u001b[39m, Path],\n\u001b[0;32m     32\u001b[0m     \u001b[39m*\u001b[39m,\n\u001b[1;32m   (...)\u001b[0m\n\u001b[0;32m     37\u001b[0m     config: Union[Dict[\u001b[39mstr\u001b[39m, Any], Config] \u001b[39m=\u001b[39m util\u001b[39m.\u001b[39mSimpleFrozenDict(),\n\u001b[0;32m     38\u001b[0m ) \u001b[39m-\u001b[39m\u001b[39m>\u001b[39m Language:\n\u001b[0;32m     39\u001b[0m     \u001b[39m\"\"\"Load a spaCy model from an installed package or a local path.\u001b[39;00m\n\u001b[0;32m     40\u001b[0m \n\u001b[0;32m     41\u001b[0m \u001b[39m    name (str): Package name or model path.\u001b[39;00m\n\u001b[1;32m   (...)\u001b[0m\n\u001b[0;32m     52\u001b[0m \u001b[39m    RETURNS (Language): The loaded nlp object.\u001b[39;00m\n\u001b[0;32m     53\u001b[0m \u001b[39m    \"\"\"\u001b[39;00m\n\u001b[1;32m---> 54\u001b[0m     \u001b[39mreturn\u001b[39;00m util\u001b[39m.\u001b[39;49mload_model(\n\u001b[0;32m     55\u001b[0m         name,\n\u001b[0;32m     56\u001b[0m         vocab\u001b[39m=\u001b[39;49mvocab,\n\u001b[0;32m     57\u001b[0m         disable\u001b[39m=\u001b[39;49mdisable,\n\u001b[0;32m     58\u001b[0m         enable\u001b[39m=\u001b[39;49menable,\n\u001b[0;32m     59\u001b[0m         exclude\u001b[39m=\u001b[39;49mexclude,\n\u001b[0;32m     60\u001b[0m         config\u001b[39m=\u001b[39;49mconfig,\n\u001b[0;32m     61\u001b[0m     )\n",
      "File \u001b[1;32mc:\\Users\\Internee\\AppData\\Local\\Programs\\Python\\Python311\\Lib\\site-packages\\spacy\\util.py:438\u001b[0m, in \u001b[0;36mload_model\u001b[1;34m(name, vocab, disable, enable, exclude, config)\u001b[0m\n\u001b[0;32m    436\u001b[0m     \u001b[39mreturn\u001b[39;00m load_model_from_path(name, \u001b[39m*\u001b[39m\u001b[39m*\u001b[39mkwargs)  \u001b[39m# type: ignore[arg-type]\u001b[39;00m\n\u001b[0;32m    437\u001b[0m \u001b[39mif\u001b[39;00m name \u001b[39min\u001b[39;00m OLD_MODEL_SHORTCUTS:\n\u001b[1;32m--> 438\u001b[0m     \u001b[39mraise\u001b[39;00m \u001b[39mIOError\u001b[39;00m(Errors\u001b[39m.\u001b[39mE941\u001b[39m.\u001b[39mformat(name\u001b[39m=\u001b[39mname, full\u001b[39m=\u001b[39mOLD_MODEL_SHORTCUTS[name]))  \u001b[39m# type: ignore[index]\u001b[39;00m\n\u001b[0;32m    439\u001b[0m \u001b[39mraise\u001b[39;00m \u001b[39mIOError\u001b[39;00m(Errors\u001b[39m.\u001b[39mE050\u001b[39m.\u001b[39mformat(name\u001b[39m=\u001b[39mname))\n",
      "\u001b[1;31mOSError\u001b[0m: [E941] Can't find model 'en'. It looks like you're trying to load a model from a shortcut, which is obsolete as of spaCy v3.0. To load the model, use its full name instead:\n\nnlp = spacy.load(\"en_core_web_sm\")\n\nFor more details on the available models, see the models directory: https://spacy.io/models. If you want to create a blank model, use spacy.blank: nlp = spacy.blank(\"en\")"
     ]
    }
   ],
   "source": [
    "import spacy\n",
    "import numpy as np\n",
    "\n",
    "# Load the English model\n",
    "nlp = spacy.load('en')\n",
    "\n",
    "# Sample sentences\n",
    "sentences = [\"This is sentence 1.\", \"This is sentence 2.\", \"This is sentence 3.\"]\n",
    "\n",
    "# Initialize the array to store sentence vectors\n",
    "num_sentences = len(sentences)\n",
    "vector_dim = nlp.vocab.vectors_length\n",
    "X = np.zeros((num_sentences, vector_dim))\n",
    "\n",
    "# Process each sentence and store its vector representation in X\n",
    "for i, sentence in enumerate(sentences):\n",
    "    doc = nlp(sentence)\n",
    "    X[i, :] = doc.vector\n"
   ]
  },
  {
   "cell_type": "code",
   "execution_count": 57,
   "metadata": {},
   "outputs": [
    {
     "name": "stdout",
     "output_type": "stream",
     "text": [
      "3\n",
      "0\n",
      "This is sentence 1.\n",
      "[]\n",
      "This is sentence 2.\n",
      "[]\n",
      "This is sentence 3.\n",
      "[]\n"
     ]
    }
   ],
   "source": [
    "import spacy\n",
    "import numpy as np\n",
    "\n",
    "# Load the English model\n",
    "nlp = spacy.blank('en')\n",
    "\n",
    "# Sample sentences\n",
    "sentences = [\"This is sentence 1.\", \"This is sentence 2.\", \"This is sentence 3.\"]\n",
    "\n",
    "# Initialize the array to store sentence vectors\n",
    "num_sentences = len(sentences)\n",
    "print(num_sentences)\n",
    "vector_dim = nlp.vocab.vectors_length\n",
    "print(vector_dim)\n",
    "X = np.zeros((num_sentences, vector_dim))\n",
    "\n",
    "# Process each sentence and store its vector representation in X\n",
    "for i, sentence in enumerate(sentences):\n",
    "    doc = nlp(sentence)\n",
    "    X[i, :] = doc.vector\n",
    "    print(doc)\n",
    "    print(X)"
   ]
  },
  {
   "cell_type": "code",
   "execution_count": 60,
   "metadata": {},
   "outputs": [
    {
     "data": {
      "text/plain": [
       "0"
      ]
     },
     "execution_count": 60,
     "metadata": {},
     "output_type": "execute_result"
    }
   ],
   "source": [
    "import spacy\n",
    "nlp = spacy.load('en_core_web_sm')\n",
    "nlp.vocab.vectors_length"
   ]
  },
  {
   "cell_type": "code",
   "execution_count": 36,
   "metadata": {},
   "outputs": [],
   "source": [
    "doc = nlp(\"cat\")"
   ]
  },
  {
   "cell_type": "code",
   "execution_count": 37,
   "metadata": {},
   "outputs": [],
   "source": [
    "doc2 = nlp(\"dog\")"
   ]
  },
  {
   "cell_type": "code",
   "execution_count": 38,
   "metadata": {},
   "outputs": [
    {
     "name": "stderr",
     "output_type": "stream",
     "text": [
      "C:\\Users\\Internee\\AppData\\Local\\Temp\\ipykernel_13060\\73203831.py:1: UserWarning: [W007] The model you're using has no word vectors loaded, so the result of the Doc.similarity method will be based on the tagger, parser and NER, which may not give useful similarity judgements. This may happen if you're using one of the small models, e.g. `en_core_web_sm`, which don't ship with word vectors and only use context-sensitive tensors. You can always add your own word vectors, or use one of the larger models instead if available.\n",
      "  doc.similarity(doc2)\n"
     ]
    },
    {
     "data": {
      "text/plain": [
       "0.6847175819913379"
      ]
     },
     "execution_count": 38,
     "metadata": {},
     "output_type": "execute_result"
    }
   ],
   "source": [
    "doc.similarity(doc2)"
   ]
  },
  {
   "cell_type": "code",
   "execution_count": 47,
   "metadata": {},
   "outputs": [],
   "source": [
    "doc3 = nlp(\"can\") "
   ]
  },
  {
   "cell_type": "code",
   "execution_count": 48,
   "metadata": {},
   "outputs": [
    {
     "name": "stderr",
     "output_type": "stream",
     "text": [
      "C:\\Users\\Internee\\AppData\\Local\\Temp\\ipykernel_13060\\120379267.py:1: UserWarning: [W007] The model you're using has no word vectors loaded, so the result of the Doc.similarity method will be based on the tagger, parser and NER, which may not give useful similarity judgements. This may happen if you're using one of the small models, e.g. `en_core_web_sm`, which don't ship with word vectors and only use context-sensitive tensors. You can always add your own word vectors, or use one of the larger models instead if available.\n",
      "  doc.similarity(doc3)\n"
     ]
    },
    {
     "data": {
      "text/plain": [
       "0.08477816758423361"
      ]
     },
     "execution_count": 48,
     "metadata": {},
     "output_type": "execute_result"
    }
   ],
   "source": [
    "doc.similarity(doc3)"
   ]
  },
  {
   "cell_type": "code",
   "execution_count": null,
   "metadata": {},
   "outputs": [],
   "source": []
  },
  {
   "cell_type": "code",
   "execution_count": null,
   "metadata": {},
   "outputs": [],
   "source": []
  }
 ],
 "metadata": {
  "kernelspec": {
   "display_name": "Python 3",
   "language": "python",
   "name": "python3"
  },
  "language_info": {
   "codemirror_mode": {
    "name": "ipython",
    "version": 3
   },
   "file_extension": ".py",
   "mimetype": "text/x-python",
   "name": "python",
   "nbconvert_exporter": "python",
   "pygments_lexer": "ipython3",
   "version": "3.11.0 (main, Oct 24 2022, 18:26:48) [MSC v.1933 64 bit (AMD64)]"
  },
  "orig_nbformat": 4,
  "vscode": {
   "interpreter": {
    "hash": "5d96ce21c6fa67fc438059e6b11d736eea5ca2ec76e97aa386f13b69e48ddef2"
   }
  }
 },
 "nbformat": 4,
 "nbformat_minor": 2
}
