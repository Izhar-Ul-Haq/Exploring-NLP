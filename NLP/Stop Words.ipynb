{
 "cells": [
  {
   "cell_type": "code",
   "execution_count": 1,
   "metadata": {},
   "outputs": [],
   "source": [
    "# =================================================\n",
    "#                   Stop Words\n",
    "# =================================================\n",
    "import numpy as np\n",
    "import spacy\n",
    "import pandas as pd"
   ]
  },
  {
   "cell_type": "code",
   "execution_count": 2,
   "metadata": {},
   "outputs": [
    {
     "name": "stdout",
     "output_type": "stream",
     "text": [
      "{'keep', \"n't\", 'i', 'something', 'my', 'whether', 'there', 'than', 'due', 'onto', 'therein', 'did', 'an', 'done', 'each', 'anyhow', 'enough', 'around', 'anyway', 'still', 'n’t', 'ever', 'above', 'so', 'must', 'fifty', 'three', 'take', '‘ll', 'it', 'ca', 'neither', 'five', 'become', 'among', 'their', 'namely', 'once', 'seemed', 'of', 'whereas', 'mostly', '’re', 'well', 'less', 'doing', 'forty', 'both', 'you', 'thereupon', 'what', 'whereafter', 'hereafter', 'quite', 'within', 'least', 'those', 'go', 'on', 'everywhere', 'four', 'perhaps', 'without', 'ten', 'unless', 'does', 'though', '‘m', 'third', 'seem', 'behind', 'becoming', 'wherein', 'meanwhile', 'and', 'thereafter', 'more', 'someone', 'had', 'eight', 'give', 'almost', 'used', 'very', 'thereby', 'thus', 'everyone', 'except', 'hereupon', 'me', 'beforehand', 'always', 'last', 'seeming', 'towards', 'with', 'under', 'twelve', 'nevertheless', 'over', 'few', 'be', 'really', 'whoever', 'if', 'could', 'being', 'then', '‘d', 'may', 'else', 'became', 'whole', 'when', 'now', 'latterly', \"'ll\", 'he', 'across', 'another', 'will', 'anywhere', 'here', 'latter', 'top', 'cannot', 'might', 'whereupon', 'during', 'before', 'eleven', 'ours', 'between', 'made', 'through', 'hers', 'by', 'yours', 'mine', 'its', 'how', 'she', 'out', 'whom', 'further', 'together', 'throughout', 'either', 'empty', 'himself', 'hundred', \"'s\", 'that', 'somehow', 'from', 'see', '’d', 'should', 'via', 'amongst', '’m', 're', 'until', 'been', 'bottom', \"'ve\", 'twenty', 'thru', 'noone', 'therefore', 'has', 'whenever', 'myself', 'call', 'again', 'in', 'side', 'some', '‘ve', 'him', 'yet', 'why', 'beyond', 'however', 'which', 'upon', 'using', 'nor', 'please', 'indeed', 'every', 'have', 'everything', 'beside', 'her', 'hence', 'one', 'them', 'seems', 'make', 'themselves', 'do', 'his', 'not', 'the', 'get', 'wherever', 'about', 'nine', 'sometimes', 'otherwise', 'moreover', 'whence', 'front', 'they', 'we', '’s', '‘s', 'six', 'was', 'anything', 'thence', 'just', 'too', 'put', 'even', '‘re', 'toward', 'after', 'full', 'am', 'others', 'were', 'itself', 'next', 'own', 'your', 'amount', 'two', 'since', 'our', 'who', 'much', 'while', 'whatever', 'although', 'whither', 'us', \"'re\", 'whose', 'down', 'all', 'ourselves', 'part', 'sixty', 'a', 'regarding', 'nowhere', 'is', 'elsewhere', 'for', 'but', 'because', 'fifteen', 'this', 'whereby', 'never', '’ll', 'hereby', \"'d\", 'these', 'herself', 'many', 'often', 'already', 'becomes', 'where', 'as', 'or', 'alone', 'show', 'several', 'off', 'into', 'to', 'per', 'are', 'former', 'only', 'rather', 'along', 'any', 'various', 'name', 'most', 'move', 'also', 'none', 'would', 'nothing', 'same', 'first', 'nobody', 'afterwards', 'besides', 'sometime', 'anyone', '’ve', 'serious', 'yourselves', \"'m\", 'against', 'back', 'at', 'somewhere', 'no', 'yourself', 'up', 'can', 'say', 'formerly', 'n‘t', 'such', 'herein', 'other', 'below'}\n"
     ]
    }
   ],
   "source": [
    "from spacy.lang.en.stop_words import STOP_WORDS\n",
    "print(STOP_WORDS)"
   ]
  },
  {
   "cell_type": "code",
   "execution_count": 4,
   "metadata": {},
   "outputs": [],
   "source": [
    "nlp = spacy.load(\"en_core_web_sm\")"
   ]
  },
  {
   "cell_type": "code",
   "execution_count": 5,
   "metadata": {},
   "outputs": [
    {
     "name": "stdout",
     "output_type": "stream",
     "text": [
      "we\n",
      "have\n",
      "just\n",
      "our\n",
      "we\n",
      "are\n",
      "all\n",
      "for\n"
     ]
    }
   ],
   "source": [
    "doc = nlp(\"Hi we have just opened our wings. we are all set for flight\")\n",
    "for token in doc:\n",
    "    if token.is_stop:\n",
    "        print(token)"
   ]
  },
  {
   "cell_type": "code",
   "execution_count": 6,
   "metadata": {},
   "outputs": [],
   "source": [
    "def preprocess(text):\n",
    "    doc = nlp(text)\n",
    "    no_stop_words = [token.text for token in doc if not token.is_stop and not token.is_punct]\n",
    "    return no_stop_words\n"
   ]
  },
  {
   "cell_type": "code",
   "execution_count": 7,
   "metadata": {},
   "outputs": [
    {
     "data": {
      "text/plain": [
       "['Hi', 'izhar', 'wanna', 'ddo', 'PHD', 'abroad']"
      ]
     },
     "execution_count": 7,
     "metadata": {},
     "output_type": "execute_result"
    }
   ],
   "source": [
    "preprocess(\"Hi i am izhar and wanna do my PHD from abroad\")"
   ]
  },
  {
   "cell_type": "code",
   "execution_count": null,
   "metadata": {},
   "outputs": [],
   "source": []
  }
 ],
 "metadata": {
  "kernelspec": {
   "display_name": "Python 3",
   "language": "python",
   "name": "python3"
  },
  "language_info": {
   "codemirror_mode": {
    "name": "ipython",
    "version": 3
   },
   "file_extension": ".py",
   "mimetype": "text/x-python",
   "name": "python",
   "nbconvert_exporter": "python",
   "pygments_lexer": "ipython3",
   "version": "3.11.0"
  },
  "orig_nbformat": 4,
  "vscode": {
   "interpreter": {
    "hash": "5d96ce21c6fa67fc438059e6b11d736eea5ca2ec76e97aa386f13b69e48ddef2"
   }
  }
 },
 "nbformat": 4,
 "nbformat_minor": 2
}
